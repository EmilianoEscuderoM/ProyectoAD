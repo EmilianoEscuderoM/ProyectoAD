{
 "cells": [
  {
   "cell_type": "markdown",
   "metadata": {},
   "source": [
    "# Estimados de Locación\n",
    "\n",
    "## 1. Objetivos:\n",
    "\n",
    "- Aprender a calcular estimados de locación utilizando `pandas`.\n",
    "\n",
    "## 2. Desarrollo:\n",
    "\n",
    "Vamos a utilizar un primer dataset para aprender a calcular estimados de locación usando pandas.\n",
    "\n",
    "El dataset que usaremos en esta sesión contiene información acerca de propiedades que estuvieron (o están) en venta en la ciudad de Melbourne, Australia. El dataset contiene las características físicas de la propiedad, su locación, el tipo de vivienda que es y el precio de la propiedad.\n",
    "\n",
    "Vamos a analizar la variable precio para entender cómo están distribuidos los precios de propiedades en esta ciudad."
   ]
  },
  {
   "cell_type": "code",
   "execution_count": 38,
   "metadata": {},
   "outputs": [],
   "source": [
    "import pandas as pd"
   ]
  },
  {
   "cell_type": "code",
   "execution_count": 39,
   "metadata": {},
   "outputs": [
    {
     "data": {
      "text/html": [
       "<div>\n",
       "<style scoped>\n",
       "    .dataframe tbody tr th:only-of-type {\n",
       "        vertical-align: middle;\n",
       "    }\n",
       "\n",
       "    .dataframe tbody tr th {\n",
       "        vertical-align: top;\n",
       "    }\n",
       "\n",
       "    .dataframe thead th {\n",
       "        text-align: right;\n",
       "    }\n",
       "</style>\n",
       "<table border=\"1\" class=\"dataframe\">\n",
       "  <thead>\n",
       "    <tr style=\"text-align: right;\">\n",
       "      <th></th>\n",
       "      <th>Conflict_ID</th>\n",
       "      <th>Region</th>\n",
       "      <th>Conflict_Type</th>\n",
       "      <th>Start_Date</th>\n",
       "      <th>End_Date</th>\n",
       "      <th>Number_of_Incidents</th>\n",
       "      <th>Number_of_Deaths</th>\n",
       "      <th>Intervention_ID</th>\n",
       "      <th>Intervention_Country</th>\n",
       "      <th>Intervention_Organization</th>\n",
       "      <th>...</th>\n",
       "      <th>Government_Transparency</th>\n",
       "      <th>Number_of_Scandals</th>\n",
       "      <th>Number_of_Displaced_People</th>\n",
       "      <th>Number_of_Refugees</th>\n",
       "      <th>Humanitarian_Needs</th>\n",
       "      <th>Access_to_Humanitarian_Aid</th>\n",
       "      <th>Technology_Use_in_Conflicts</th>\n",
       "      <th>Technological_Investment</th>\n",
       "      <th>Number_of_Data_Analysis_Projects</th>\n",
       "      <th>Data_Analysis_Effectiveness</th>\n",
       "    </tr>\n",
       "  </thead>\n",
       "  <tbody>\n",
       "    <tr>\n",
       "      <th>0</th>\n",
       "      <td>1</td>\n",
       "      <td>Afghanistan</td>\n",
       "      <td>terrorism</td>\n",
       "      <td>2010-01-01</td>\n",
       "      <td>NaN</td>\n",
       "      <td>48</td>\n",
       "      <td>820</td>\n",
       "      <td>1</td>\n",
       "      <td>Iraq</td>\n",
       "      <td>Red Cross</td>\n",
       "      <td>...</td>\n",
       "      <td>8</td>\n",
       "      <td>6</td>\n",
       "      <td>1097330</td>\n",
       "      <td>973012</td>\n",
       "      <td>medicine</td>\n",
       "      <td>high</td>\n",
       "      <td>low</td>\n",
       "      <td>40</td>\n",
       "      <td>12</td>\n",
       "      <td>7</td>\n",
       "    </tr>\n",
       "    <tr>\n",
       "      <th>1</th>\n",
       "      <td>2</td>\n",
       "      <td>Afghanistan</td>\n",
       "      <td>civil war</td>\n",
       "      <td>2010-01-02</td>\n",
       "      <td>2023-01-01</td>\n",
       "      <td>18</td>\n",
       "      <td>284</td>\n",
       "      <td>2</td>\n",
       "      <td>Afghanistan</td>\n",
       "      <td>Red Cross</td>\n",
       "      <td>...</td>\n",
       "      <td>7</td>\n",
       "      <td>2</td>\n",
       "      <td>4064229</td>\n",
       "      <td>1822404</td>\n",
       "      <td>shelter</td>\n",
       "      <td>low</td>\n",
       "      <td>medium</td>\n",
       "      <td>71</td>\n",
       "      <td>48</td>\n",
       "      <td>2</td>\n",
       "    </tr>\n",
       "    <tr>\n",
       "      <th>2</th>\n",
       "      <td>3</td>\n",
       "      <td>Iran</td>\n",
       "      <td>terrorism</td>\n",
       "      <td>2010-01-03</td>\n",
       "      <td>2023-01-01</td>\n",
       "      <td>55</td>\n",
       "      <td>29</td>\n",
       "      <td>3</td>\n",
       "      <td>Yemen</td>\n",
       "      <td>UN</td>\n",
       "      <td>...</td>\n",
       "      <td>2</td>\n",
       "      <td>4</td>\n",
       "      <td>1308294</td>\n",
       "      <td>1392299</td>\n",
       "      <td>shelter</td>\n",
       "      <td>medium</td>\n",
       "      <td>high</td>\n",
       "      <td>42</td>\n",
       "      <td>4</td>\n",
       "      <td>1</td>\n",
       "    </tr>\n",
       "    <tr>\n",
       "      <th>3</th>\n",
       "      <td>4</td>\n",
       "      <td>Iran</td>\n",
       "      <td>territorial conflict</td>\n",
       "      <td>2010-01-04</td>\n",
       "      <td>2023-01-01</td>\n",
       "      <td>14</td>\n",
       "      <td>458</td>\n",
       "      <td>4</td>\n",
       "      <td>Afghanistan</td>\n",
       "      <td>Red Cross</td>\n",
       "      <td>...</td>\n",
       "      <td>4</td>\n",
       "      <td>6</td>\n",
       "      <td>92928</td>\n",
       "      <td>878925</td>\n",
       "      <td>medicine</td>\n",
       "      <td>medium</td>\n",
       "      <td>medium</td>\n",
       "      <td>18</td>\n",
       "      <td>30</td>\n",
       "      <td>4</td>\n",
       "    </tr>\n",
       "    <tr>\n",
       "      <th>4</th>\n",
       "      <td>5</td>\n",
       "      <td>Iraq</td>\n",
       "      <td>terrorism</td>\n",
       "      <td>2010-01-05</td>\n",
       "      <td>2023-01-01</td>\n",
       "      <td>34</td>\n",
       "      <td>935</td>\n",
       "      <td>5</td>\n",
       "      <td>Iraq</td>\n",
       "      <td>Red Cross</td>\n",
       "      <td>...</td>\n",
       "      <td>4</td>\n",
       "      <td>5</td>\n",
       "      <td>3494593</td>\n",
       "      <td>1090382</td>\n",
       "      <td>water</td>\n",
       "      <td>medium</td>\n",
       "      <td>low</td>\n",
       "      <td>76</td>\n",
       "      <td>11</td>\n",
       "      <td>8</td>\n",
       "    </tr>\n",
       "    <tr>\n",
       "      <th>...</th>\n",
       "      <td>...</td>\n",
       "      <td>...</td>\n",
       "      <td>...</td>\n",
       "      <td>...</td>\n",
       "      <td>...</td>\n",
       "      <td>...</td>\n",
       "      <td>...</td>\n",
       "      <td>...</td>\n",
       "      <td>...</td>\n",
       "      <td>...</td>\n",
       "      <td>...</td>\n",
       "      <td>...</td>\n",
       "      <td>...</td>\n",
       "      <td>...</td>\n",
       "      <td>...</td>\n",
       "      <td>...</td>\n",
       "      <td>...</td>\n",
       "      <td>...</td>\n",
       "      <td>...</td>\n",
       "      <td>...</td>\n",
       "      <td>...</td>\n",
       "    </tr>\n",
       "    <tr>\n",
       "      <th>9995</th>\n",
       "      <td>9996</td>\n",
       "      <td>Syria</td>\n",
       "      <td>terrorism</td>\n",
       "      <td>2037-05-14</td>\n",
       "      <td>NaN</td>\n",
       "      <td>63</td>\n",
       "      <td>757</td>\n",
       "      <td>9996</td>\n",
       "      <td>Iraq</td>\n",
       "      <td>UN</td>\n",
       "      <td>...</td>\n",
       "      <td>1</td>\n",
       "      <td>9</td>\n",
       "      <td>938855</td>\n",
       "      <td>534834</td>\n",
       "      <td>shelter</td>\n",
       "      <td>low</td>\n",
       "      <td>high</td>\n",
       "      <td>80</td>\n",
       "      <td>47</td>\n",
       "      <td>7</td>\n",
       "    </tr>\n",
       "    <tr>\n",
       "      <th>9996</th>\n",
       "      <td>9997</td>\n",
       "      <td>Iran</td>\n",
       "      <td>terrorism</td>\n",
       "      <td>2037-05-15</td>\n",
       "      <td>NaN</td>\n",
       "      <td>95</td>\n",
       "      <td>45</td>\n",
       "      <td>9997</td>\n",
       "      <td>Iran</td>\n",
       "      <td>UN</td>\n",
       "      <td>...</td>\n",
       "      <td>2</td>\n",
       "      <td>1</td>\n",
       "      <td>3445901</td>\n",
       "      <td>2273746</td>\n",
       "      <td>water</td>\n",
       "      <td>low</td>\n",
       "      <td>medium</td>\n",
       "      <td>57</td>\n",
       "      <td>31</td>\n",
       "      <td>2</td>\n",
       "    </tr>\n",
       "    <tr>\n",
       "      <th>9997</th>\n",
       "      <td>9998</td>\n",
       "      <td>Afghanistan</td>\n",
       "      <td>territorial conflict</td>\n",
       "      <td>2037-05-16</td>\n",
       "      <td>NaN</td>\n",
       "      <td>98</td>\n",
       "      <td>121</td>\n",
       "      <td>9998</td>\n",
       "      <td>Yemen</td>\n",
       "      <td>Red Cross</td>\n",
       "      <td>...</td>\n",
       "      <td>6</td>\n",
       "      <td>5</td>\n",
       "      <td>4246780</td>\n",
       "      <td>1884898</td>\n",
       "      <td>food</td>\n",
       "      <td>medium</td>\n",
       "      <td>medium</td>\n",
       "      <td>91</td>\n",
       "      <td>1</td>\n",
       "      <td>9</td>\n",
       "    </tr>\n",
       "    <tr>\n",
       "      <th>9998</th>\n",
       "      <td>9999</td>\n",
       "      <td>Syria</td>\n",
       "      <td>territorial conflict</td>\n",
       "      <td>2037-05-17</td>\n",
       "      <td>NaN</td>\n",
       "      <td>38</td>\n",
       "      <td>713</td>\n",
       "      <td>9999</td>\n",
       "      <td>Afghanistan</td>\n",
       "      <td>UN</td>\n",
       "      <td>...</td>\n",
       "      <td>1</td>\n",
       "      <td>4</td>\n",
       "      <td>946595</td>\n",
       "      <td>414533</td>\n",
       "      <td>water</td>\n",
       "      <td>low</td>\n",
       "      <td>medium</td>\n",
       "      <td>9</td>\n",
       "      <td>13</td>\n",
       "      <td>8</td>\n",
       "    </tr>\n",
       "    <tr>\n",
       "      <th>9999</th>\n",
       "      <td>10000</td>\n",
       "      <td>Afghanistan</td>\n",
       "      <td>civil war</td>\n",
       "      <td>2037-05-18</td>\n",
       "      <td>2023-01-01</td>\n",
       "      <td>75</td>\n",
       "      <td>418</td>\n",
       "      <td>10000</td>\n",
       "      <td>Iraq</td>\n",
       "      <td>Red Cross</td>\n",
       "      <td>...</td>\n",
       "      <td>7</td>\n",
       "      <td>9</td>\n",
       "      <td>2872072</td>\n",
       "      <td>2723564</td>\n",
       "      <td>water</td>\n",
       "      <td>medium</td>\n",
       "      <td>low</td>\n",
       "      <td>38</td>\n",
       "      <td>16</td>\n",
       "      <td>6</td>\n",
       "    </tr>\n",
       "  </tbody>\n",
       "</table>\n",
       "<p>10000 rows × 37 columns</p>\n",
       "</div>"
      ],
      "text/plain": [
       "      Conflict_ID       Region         Conflict_Type  Start_Date    End_Date  \\\n",
       "0               1  Afghanistan             terrorism  2010-01-01         NaN   \n",
       "1               2  Afghanistan             civil war  2010-01-02  2023-01-01   \n",
       "2               3         Iran             terrorism  2010-01-03  2023-01-01   \n",
       "3               4         Iran  territorial conflict  2010-01-04  2023-01-01   \n",
       "4               5         Iraq             terrorism  2010-01-05  2023-01-01   \n",
       "...           ...          ...                   ...         ...         ...   \n",
       "9995         9996        Syria             terrorism  2037-05-14         NaN   \n",
       "9996         9997         Iran             terrorism  2037-05-15         NaN   \n",
       "9997         9998  Afghanistan  territorial conflict  2037-05-16         NaN   \n",
       "9998         9999        Syria  territorial conflict  2037-05-17         NaN   \n",
       "9999        10000  Afghanistan             civil war  2037-05-18  2023-01-01   \n",
       "\n",
       "      Number_of_Incidents  Number_of_Deaths  Intervention_ID  \\\n",
       "0                      48               820                1   \n",
       "1                      18               284                2   \n",
       "2                      55                29                3   \n",
       "3                      14               458                4   \n",
       "4                      34               935                5   \n",
       "...                   ...               ...              ...   \n",
       "9995                   63               757             9996   \n",
       "9996                   95                45             9997   \n",
       "9997                   98               121             9998   \n",
       "9998                   38               713             9999   \n",
       "9999                   75               418            10000   \n",
       "\n",
       "     Intervention_Country Intervention_Organization  ...  \\\n",
       "0                    Iraq                 Red Cross  ...   \n",
       "1             Afghanistan                 Red Cross  ...   \n",
       "2                   Yemen                        UN  ...   \n",
       "3             Afghanistan                 Red Cross  ...   \n",
       "4                    Iraq                 Red Cross  ...   \n",
       "...                   ...                       ...  ...   \n",
       "9995                 Iraq                        UN  ...   \n",
       "9996                 Iran                        UN  ...   \n",
       "9997                Yemen                 Red Cross  ...   \n",
       "9998          Afghanistan                        UN  ...   \n",
       "9999                 Iraq                 Red Cross  ...   \n",
       "\n",
       "     Government_Transparency Number_of_Scandals Number_of_Displaced_People  \\\n",
       "0                          8                  6                    1097330   \n",
       "1                          7                  2                    4064229   \n",
       "2                          2                  4                    1308294   \n",
       "3                          4                  6                      92928   \n",
       "4                          4                  5                    3494593   \n",
       "...                      ...                ...                        ...   \n",
       "9995                       1                  9                     938855   \n",
       "9996                       2                  1                    3445901   \n",
       "9997                       6                  5                    4246780   \n",
       "9998                       1                  4                     946595   \n",
       "9999                       7                  9                    2872072   \n",
       "\n",
       "     Number_of_Refugees Humanitarian_Needs  Access_to_Humanitarian_Aid  \\\n",
       "0                973012           medicine                        high   \n",
       "1               1822404            shelter                         low   \n",
       "2               1392299            shelter                      medium   \n",
       "3                878925           medicine                      medium   \n",
       "4               1090382              water                      medium   \n",
       "...                 ...                ...                         ...   \n",
       "9995             534834            shelter                         low   \n",
       "9996            2273746              water                         low   \n",
       "9997            1884898               food                      medium   \n",
       "9998             414533              water                         low   \n",
       "9999            2723564              water                      medium   \n",
       "\n",
       "      Technology_Use_in_Conflicts  Technological_Investment  \\\n",
       "0                             low                        40   \n",
       "1                          medium                        71   \n",
       "2                            high                        42   \n",
       "3                          medium                        18   \n",
       "4                             low                        76   \n",
       "...                           ...                       ...   \n",
       "9995                         high                        80   \n",
       "9996                       medium                        57   \n",
       "9997                       medium                        91   \n",
       "9998                       medium                         9   \n",
       "9999                          low                        38   \n",
       "\n",
       "      Number_of_Data_Analysis_Projects  Data_Analysis_Effectiveness  \n",
       "0                                   12                            7  \n",
       "1                                   48                            2  \n",
       "2                                    4                            1  \n",
       "3                                   30                            4  \n",
       "4                                   11                            8  \n",
       "...                                ...                          ...  \n",
       "9995                                47                            7  \n",
       "9996                                31                            2  \n",
       "9997                                 1                            9  \n",
       "9998                                13                            8  \n",
       "9999                                16                            6  \n",
       "\n",
       "[10000 rows x 37 columns]"
      ]
     },
     "execution_count": 39,
     "metadata": {},
     "output_type": "execute_result"
    }
   ],
   "source": [
    "df=pd.read_csv('../Dataset/geopolitical_instability_middle_east.csv', sep=',')\n",
    "df"
   ]
  },
  {
   "cell_type": "markdown",
   "metadata": {},
   "source": [
    "Interpretación de los Resultados\n",
    "Los estimados de locación nos ayudan a entender la tendencia central de los datos. La media nos da un promedio general, la mediana indica el punto medio de los datos y la moda muestra el valor que aparece con mayor frecuencia.\n",
    "# Media"
   ]
  },
  {
   "cell_type": "code",
   "execution_count": 40,
   "metadata": {},
   "outputs": [
    {
     "name": "stdout",
     "output_type": "stream",
     "text": [
      "Media:\n",
      "Number of Incidents: 50.0529\n",
      "Number of Deaths: 497.4713\n",
      "Number of Displaced People: 2493173.7824\n",
      "\n"
     ]
    }
   ],
   "source": [
    "# Calcular la media\n",
    "mean_incidents = df['Number_of_Incidents'].mean()\n",
    "mean_deaths = df['Number_of_Deaths'].mean()\n",
    "mean_displaced_people = df['Number_of_Displaced_People'].mean()\n",
    "\n",
    "print(\"Media:\")\n",
    "print(f\"Number of Incidents: {mean_incidents}\")\n",
    "print(f\"Number of Deaths: {mean_deaths}\")\n",
    "print(f\"Number of Displaced People: {mean_displaced_people}\\n\")"
   ]
  },
  {
   "cell_type": "markdown",
   "metadata": {},
   "source": [
    "# Mediana"
   ]
  },
  {
   "cell_type": "code",
   "execution_count": 41,
   "metadata": {},
   "outputs": [
    {
     "name": "stdout",
     "output_type": "stream",
     "text": [
      "Mediana:\n",
      "Number of Incidents: 50.0\n",
      "Number of Deaths: 496.0\n",
      "Number of Displaced People: 2471655.0\n",
      "\n"
     ]
    }
   ],
   "source": [
    "# Calcular la mediana\n",
    "median_incidents = df['Number_of_Incidents'].median()\n",
    "median_deaths = df['Number_of_Deaths'].median()\n",
    "median_displaced_people = df['Number_of_Displaced_People'].median()\n",
    "\n",
    "print(\"Mediana:\")\n",
    "print(f\"Number of Incidents: {median_incidents}\")\n",
    "print(f\"Number of Deaths: {median_deaths}\")\n",
    "print(f\"Number of Displaced People: {median_displaced_people}\\n\")"
   ]
  },
  {
   "cell_type": "markdown",
   "metadata": {},
   "source": [
    "# Moda"
   ]
  },
  {
   "cell_type": "code",
   "execution_count": 42,
   "metadata": {},
   "outputs": [
    {
     "name": "stdout",
     "output_type": "stream",
     "text": [
      "Moda:\n",
      "Number of Incidents: 49\n",
      "Number of Deaths: 240\n",
      "Number of Displaced People: 865116\n"
     ]
    }
   ],
   "source": [
    "# Calcular la moda\n",
    "mode_incidents = df['Number_of_Incidents'].mode()[0]\n",
    "mode_deaths = df['Number_of_Deaths'].mode()[0]\n",
    "mode_displaced_people = df['Number_of_Displaced_People'].mode()[0]\n",
    "\n",
    "print(\"Moda:\")\n",
    "print(f\"Number of Incidents: {mode_incidents}\")\n",
    "print(f\"Number of Deaths: {mode_deaths}\")\n",
    "print(f\"Number of Displaced People: {mode_displaced_people}\")"
   ]
  },
  {
   "cell_type": "markdown",
   "metadata": {},
   "source": [
    "## Gráfico de distribución para Number of Incidents"
   ]
  },
  {
   "cell_type": "code",
   "execution_count": 43,
   "metadata": {},
   "outputs": [],
   "source": [
    "import seaborn as sns\n",
    "import matplotlib.pyplot as plt"
   ]
  },
  {
   "cell_type": "code",
   "execution_count": 56,
   "metadata": {},
   "outputs": [
    {
     "data": {
      "text/plain": [
       "<Figure size 10000x5000 with 0 Axes>"
      ]
     },
     "execution_count": 56,
     "metadata": {},
     "output_type": "execute_result"
    },
    {
     "data": {
      "text/plain": [
       "<Figure size 10000x5000 with 0 Axes>"
      ]
     },
     "metadata": {},
     "output_type": "display_data"
    }
   ],
   "source": [
    "plt.figure(figsize=(100, 50))"
   ]
  },
  {
   "cell_type": "markdown",
   "metadata": {},
   "source": [
    "# Gráfico de distribución para Number of Incidents"
   ]
  },
  {
   "cell_type": "code",
   "execution_count": 57,
   "metadata": {},
   "outputs": [
    {
     "data": {
      "text/plain": [
       "<matplotlib.legend.Legend at 0x1d07fe957c0>"
      ]
     },
     "execution_count": 57,
     "metadata": {},
     "output_type": "execute_result"
    },
    {
     "data": {
      "image/png": "[encoded data removed]",
      "text/plain": [
       "<Figure size 640x480 with 1 Axes>"
      ]
     },
     "metadata": {},
     "output_type": "display_data"
    }
   ],
   "source": [
    "plt.subplot(1, 3, 1)\n",
    "sns.histplot(df['Number_of_Incidents'], kde=True, color='#c0261c')\n",
    "plt.axvline(mean_incidents, color='blue', linestyle='--', label=f'Mean: {mean_incidents:.2f}')\n",
    "plt.axvline(median_incidents, color='green', linestyle='--', label=f'Median: {median_incidents:.2f}')\n",
    "plt.axvline(mode_incidents, color='red', linestyle='--', label=f'Mode: {mode_incidents:.2f}')\n",
    "plt.title('Distribution of Number of Incidents')\n",
    "plt.legend()"
   ]
  },
  {
   "cell_type": "markdown",
   "metadata": {},
   "source": [
    "# Gráfico de distribución para Number of Incidents\n"
   ]
  },
  {
   "cell_type": "code",
   "execution_count": 46,
   "metadata": {},
   "outputs": [
    {
     "data": {
      "text/plain": [
       "<matplotlib.legend.Legend at 0x1d004e8ffe0>"
      ]
     },
     "execution_count": 46,
     "metadata": {},
     "output_type": "execute_result"
    },
    {
     "data": {
      "image/png": "[encoded data removed]",
      "text/plain": [
       "<Figure size 640x480 with 1 Axes>"
      ]
     },
     "metadata": {},
     "output_type": "display_data"
    }
   ],
   "source": [
    "\n",
    "plt.subplot(1, 3, 1)\n",
    "sns.histplot(df['Number_of_Incidents'], kde=True, color='#c0261c')\n",
    "plt.axvline(mean_incidents, color='blue', linestyle='--', label=f'Mean: {mean_incidents:.2f}')\n",
    "plt.axvline(median_incidents, color='green', linestyle='--', label=f'Median: {median_incidents:.2f}')\n",
    "plt.axvline(mode_incidents, color='red', linestyle='--', label=f'Mode: {mode_incidents:.2f}')\n",
    "plt.title('Distribution of Number of Incidents')\n",
    "plt.legend()"
   ]
  },
  {
   "cell_type": "markdown",
   "metadata": {},
   "source": [
    "# Gráfico de distribución para Number of Displaced People"
   ]
  },
  {
   "cell_type": "code",
   "execution_count": 47,
   "metadata": {},
   "outputs": [
    {
     "data": {
      "text/plain": [
       "<matplotlib.legend.Legend at 0x1d0048df920>"
      ]
     },
     "execution_count": 47,
     "metadata": {},
     "output_type": "execute_result"
    },
    {
     "data": {
      "image/png": "[encoded data removed]",
      "text/plain": [
       "<Figure size 640x480 with 1 Axes>"
      ]
     },
     "metadata": {},
     "output_type": "display_data"
    }
   ],
   "source": [
    "\n",
    "plt.subplot(1, 3, 3)\n",
    "sns.histplot(df['Number_of_Displaced_People'], kde=True, color='#c0d860')\n",
    "plt.axvline(mean_displaced_people, color='blue', linestyle='--', label=f'Mean: {mean_displaced_people:.2f}')\n",
    "plt.axvline(median_displaced_people, color='green', linestyle='--', label=f'Median: {median_displaced_people:.2f}')\n",
    "plt.axvline(mode_displaced_people, color='red', linestyle='--', label=f'Mode: {mode_displaced_people:.2f}')\n",
    "plt.title('Distribution of Number of Displaced People')\n",
    "plt.legend()"
   ]
  },
  {
   "cell_type": "markdown",
   "metadata": {},
   "source": [
    "# Calcular la desviación estándar"
   ]
  },
  {
   "cell_type": "code",
   "execution_count": 48,
   "metadata": {},
   "outputs": [
    {
     "name": "stdout",
     "output_type": "stream",
     "text": [
      "Desviación Estándar:\n",
      "Number of Incidents: 28.613692105836197\n",
      "Number of Deaths: 289.2197268191576\n",
      "Number of Displaced People: 1435109.9908913074\n"
     ]
    }
   ],
   "source": [
    "\n",
    "std_incidents = df['Number_of_Incidents'].std()\n",
    "std_deaths = df['Number_of_Deaths'].std()\n",
    "std_displaced_people = df['Number_of_Displaced_People'].std()\n",
    "\n",
    "print(\"Desviación Estándar:\")\n",
    "print(f\"Number of Incidents: {std_incidents}\")\n",
    "print(f\"Number of Deaths: {std_deaths}\")\n",
    "print(f\"Number of Displaced People: {std_displaced_people}\")\n"
   ]
  },
  {
   "cell_type": "markdown",
   "metadata": {},
   "source": [
    "# Calcular los percentiles 25, 50, 75 y 90"
   ]
  },
  {
   "cell_type": "markdown",
   "metadata": {},
   "source": [
    "Percentiles: Nos indican los valores por debajo de los cuales se encuentra un cierto porcentaje de los datos."
   ]
  },
  {
   "cell_type": "code",
   "execution_count": 49,
   "metadata": {},
   "outputs": [
    {
     "name": "stdout",
     "output_type": "stream",
     "text": [
      "Percentiles:\n",
      "Number of Incidents:\n",
      "0.25    25.0\n",
      "0.50    50.0\n",
      "0.75    75.0\n",
      "0.90    90.0\n",
      "Name: Number_of_Incidents, dtype: float64\n",
      "\n",
      "Number of Deaths:\n",
      "0.25    245.0\n",
      "0.50    496.0\n",
      "0.75    747.0\n",
      "0.90    901.0\n",
      "Name: Number_of_Deaths, dtype: float64\n",
      "\n",
      "Number of Displaced People:\n",
      "0.25    1264817.5\n",
      "0.50    2471655.0\n",
      "0.75    3738151.0\n",
      "0.90    4505714.6\n",
      "Name: Number_of_Displaced_People, dtype: float64\n"
     ]
    }
   ],
   "source": [
    "percentiles_incidents = df['Number_of_Incidents'].quantile([0.25, 0.5, 0.75, 0.90])\n",
    "percentiles_deaths = df['Number_of_Deaths'].quantile([0.25, 0.5, 0.75, 0.90])\n",
    "percentiles_displaced_people = df['Number_of_Displaced_People'].quantile([0.25, 0.5, 0.75, 0.90])\n",
    "\n",
    "print(\"Percentiles:\")\n",
    "print(\"Number of Incidents:\")\n",
    "print(percentiles_incidents)\n",
    "print(\"\\nNumber of Deaths:\")\n",
    "print(percentiles_deaths)\n",
    "print(\"\\nNumber of Displaced People:\")\n",
    "print(percentiles_displaced_people)\n"
   ]
  },
  {
   "cell_type": "markdown",
   "metadata": {},
   "source": [
    "# Calcular el rango intercuartílico (IQR)"
   ]
  },
  {
   "cell_type": "markdown",
   "metadata": {},
   "source": [
    "Rango Intercuartílico (IQR): Mide la dispersión del 50% central de los datos y es una medida robusta de la variabilidad."
   ]
  },
  {
   "cell_type": "code",
   "execution_count": 50,
   "metadata": {},
   "outputs": [
    {
     "name": "stdout",
     "output_type": "stream",
     "text": [
      "\n",
      "Rango Intercuartílico (IQR):\n",
      "Number of Incidents: 50.0\n",
      "Number of Deaths: 502.0\n",
      "Number of Displaced People: 2473333.5\n"
     ]
    }
   ],
   "source": [
    "iqr_incidents = percentiles_incidents[0.75] - percentiles_incidents[0.25]\n",
    "iqr_deaths = percentiles_deaths[0.75] - percentiles_deaths[0.25]\n",
    "iqr_displaced_people = percentiles_displaced_people[0.75] - percentiles_displaced_people[0.25]\n",
    "\n",
    "print(\"\\nRango Intercuartílico (IQR):\")\n",
    "print(f\"Number of Incidents: {iqr_incidents}\")\n",
    "print(f\"Number of Deaths: {iqr_deaths}\")\n",
    "print(f\"Number of Displaced People: {iqr_displaced_people}\")\n"
   ]
  },
  {
   "cell_type": "code",
   "execution_count": 51,
   "metadata": {},
   "outputs": [],
   "source": [
    "import pandas as pd\n",
    "import seaborn as sns\n",
    "import matplotlib.pyplot as plt"
   ]
  },
  {
   "cell_type": "code",
   "execution_count": 52,
   "metadata": {},
   "outputs": [],
   "source": [
    "df['Start_Date'] = pd.to_datetime(df['Start_Date'])\n",
    "df['End_Date'] = pd.to_datetime(df['End_Date'])"
   ]
  },
  {
   "cell_type": "markdown",
   "metadata": {},
   "source": [
    "# Boxplot para Number of Incidents"
   ]
  },
  {
   "cell_type": "code",
   "execution_count": 53,
   "metadata": {},
   "outputs": [
    {
     "data": {
      "text/plain": [
       "Text(0.5, 1.0, 'Boxplot of Number of Incidents')"
      ]
     },
     "execution_count": 53,
     "metadata": {},
     "output_type": "execute_result"
    },
    {
     "data": {
      "image/png": "[encoded data removed]",
      "text/plain": [
       "<Figure size 640x480 with 1 Axes>"
      ]
     },
     "metadata": {},
     "output_type": "display_data"
    }
   ],
   "source": [
    "\n",
    "plt.subplot(1, 3, 1)\n",
    "sns.boxplot(y=df['Number_of_Incidents'], color='#c0261c')\n",
    "plt.title('Boxplot of Number of Incidents')"
   ]
  },
  {
   "cell_type": "markdown",
   "metadata": {},
   "source": [
    "# Boxplot para Number of Deaths"
   ]
  },
  {
   "cell_type": "code",
   "execution_count": 54,
   "metadata": {},
   "outputs": [
    {
     "data": {
      "text/plain": [
       "Text(0.5, 1.0, 'Boxplot of Number of Deaths')"
      ]
     },
     "execution_count": 54,
     "metadata": {},
     "output_type": "execute_result"
    },
    {
     "data": {
      "image/png": "[encoded data removed]",
      "text/plain": [
       "<Figure size 640x480 with 1 Axes>"
      ]
     },
     "metadata": {},
     "output_type": "display_data"
    }
   ],
   "source": [
    "\n",
    "plt.subplot(1, 3, 2)\n",
    "sns.boxplot(y=df['Number_of_Deaths'], color='#c59538')\n",
    "plt.title('Boxplot of Number of Deaths')"
   ]
  },
  {
   "cell_type": "markdown",
   "metadata": {},
   "source": [
    "# Boxplot para Number of Displaced People"
   ]
  },
  {
   "cell_type": "code",
   "execution_count": 55,
   "metadata": {},
   "outputs": [
    {
     "data": {
      "text/plain": [
       "Text(0.5, 1.0, 'Boxplot of Number of Displaced People')"
      ]
     },
     "execution_count": 55,
     "metadata": {},
     "output_type": "execute_result"
    },
    {
     "data": {
      "image/png": "[encoded data removed]",
      "text/plain": [
       "<Figure size 640x480 with 1 Axes>"
      ]
     },
     "metadata": {},
     "output_type": "display_data"
    }
   ],
   "source": [
    "\n",
    "plt.subplot(1, 3, 3)\n",
    "sns.boxplot(y=df['Number_of_Displaced_People'], color='#c0d860')\n",
    "plt.title('Boxplot of Number of Displaced People')"
   ]
  }
 ],
 "metadata": {
  "kernelspec": {
   "display_name": "Python 3",
   "language": "python",
   "name": "python3"
  },
  "language_info": {
   "codemirror_mode": {
    "name": "ipython",
    "version": 3
   },
   "file_extension": ".py",
   "mimetype": "text/x-python",
   "name": "python",
   "nbconvert_exporter": "python",
   "pygments_lexer": "ipython3",
   "version": "3.12.3"
  }
 },
 "nbformat": 4,
 "nbformat_minor": 2
}
